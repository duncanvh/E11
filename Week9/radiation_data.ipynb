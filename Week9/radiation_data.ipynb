{
 "cells": [
  {
   "cell_type": "code",
   "execution_count": 3,
   "id": "0d17d566-30ba-4761-9da8-4d1423f21066",
   "metadata": {},
   "outputs": [
    {
     "ename": "ModuleNotFoundError",
     "evalue": "No module named 'RPi'",
     "output_type": "error",
     "traceback": [
      "\u001b[0;31m---------------------------------------------------------------------------\u001b[0m",
      "\u001b[0;31mModuleNotFoundError\u001b[0m                       Traceback (most recent call last)",
      "Cell \u001b[0;32mIn[3], line 1\u001b[0m\n\u001b[0;32m----> 1\u001b[0m \u001b[38;5;28;01mimport\u001b[39;00m \u001b[38;5;21;01mRPi\u001b[39;00m\u001b[38;5;21;01m.\u001b[39;00m\u001b[38;5;21;01mGPIO\u001b[39;00m \u001b[38;5;28;01mas\u001b[39;00m \u001b[38;5;21;01mGPIO\u001b[39;00m\n\u001b[1;32m      2\u001b[0m \u001b[38;5;28;01mimport\u001b[39;00m \u001b[38;5;21;01mdatetime\u001b[39;00m\n\u001b[1;32m      4\u001b[0m \u001b[38;5;28;01mdef\u001b[39;00m \u001b[38;5;21mmy_callback\u001b[39m(channel):\n",
      "\u001b[0;31mModuleNotFoundError\u001b[0m: No module named 'RPi'"
     ]
    }
   ],
   "source": [
    "import RPi.GPIO as GPIO\n",
    "import datetime\n",
    " \n",
    "def my_callback(channel):\n",
    "    if GPIO.input(channel) == GPIO.HIGH:\n",
    "        print('\\n▼  at ' + str(datetime.datetime.now()))\n",
    "    else:\n",
    "        print('\\n ▲ at ' + str(datetime.datetime.now()))\n",
    " \n",
    "try:\n",
    "    GPIO.setmode(GPIO.BCM)\n",
    "    GPIO.setup(6, GPIO.IN, pull_up_down=GPIO.PUD_DOWN)\n",
    "    GPIO.add_event_detect(6, GPIO.BOTH, callback=my_callback)\n",
    " \n",
    "    message = raw_input('\\nPress any key to exit.\\n')\n",
    " \n",
    "finally:\n",
    "    GPIO.cleanup()\n",
    " \n",
    "print(\"Goodbye!\")"
   ]
  }
 ],
 "metadata": {
  "kernelspec": {
   "display_name": "Python [conda env:base] *",
   "language": "python",
   "name": "conda-base-py"
  },
  "language_info": {
   "codemirror_mode": {
    "name": "ipython",
    "version": 3
   },
   "file_extension": ".py",
   "mimetype": "text/x-python",
   "name": "python",
   "nbconvert_exporter": "python",
   "pygments_lexer": "ipython3",
   "version": "3.12.7"
  }
 },
 "nbformat": 4,
 "nbformat_minor": 5
}
